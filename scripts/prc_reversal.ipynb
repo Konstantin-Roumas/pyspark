{
 "cells": [
  {
   "cell_type": "markdown",
   "id": "fd7d1923-2935-424b-8487-476087d4c5e5",
   "metadata": {},
   "source": [
    "## Initializng"
   ]
  },
  {
   "cell_type": "code",
   "execution_count": 1,
   "id": "89659b4e-08d5-4d67-aac1-d358ab44cec2",
   "metadata": {},
   "outputs": [],
   "source": [
    "import os\n",
    "from pyspark.sql import SparkSession"
   ]
  },
  {
   "cell_type": "code",
   "execution_count": 4,
   "id": "5e67894f-b1ed-49e1-b519-98f27a479d0f",
   "metadata": {},
   "outputs": [],
   "source": [
    "import pyspark.sql.functions as F"
   ]
  },
  {
   "cell_type": "code",
   "execution_count": 5,
   "id": "eafceb25-ac1b-490d-b1e7-c9eefdb2f582",
   "metadata": {},
   "outputs": [],
   "source": [
    "jdbc_path = \"/home/jovyan/drivers/postgresql-42.7.7.jar\"\n",
    "jdbc_url = \"jdbc:postgresql://rc1a-h9rlcjswmfcyn9g0.mdb.yandexcloud.net:6432/dev_users_tool\"\n",
    "os.environ[\"JAVA_HOME\"] = \"/home/jovyan/jdk-17.0.12+7/\"\n",
    "creds = {\n",
    "    \"user\": \"tech_fr_pl_dev_admin\",\n",
    "    \"password\": \"wh2MIUPFxCtH\",\n",
    "    \"driver\": \"org.postgresql.Driver\"\n",
    "}"
   ]
  },
  {
   "cell_type": "code",
   "execution_count": null,
   "id": "776b6de0-3015-4a88-839d-83204d9c7665",
   "metadata": {},
   "outputs": [],
   "source": [
    "spark = SparkSession.builder.appName(\"test\").config(\"spark.driver.extraClassPath\", jdbc_path).getOrCreate()"
   ]
  },
  {
   "cell_type": "code",
   "execution_count": 36,
   "id": "195e8b62-3b32-44bd-b61d-12a19b29b7fd",
   "metadata": {},
   "outputs": [],
   "source": [
    "def read_data(table_name: str):\n",
    "    return spark.read.jdbc(url=jdbc_url, table=\"params.\"+table_name, properties=creds)\n",
    "def write_data(dataframe, table_name: str):\n",
    "    return dataframe.write.jdbc(url=jdbc_url, mode=\"append\", table=\"params.\"+table_name,properties=creds)"
   ]
  },
  {
   "cell_type": "code",
   "execution_count": 9,
   "id": "085e3a3a-1512-4d0b-aa87-d9755497e8d4",
   "metadata": {},
   "outputs": [],
   "source": [
    "cluster_set_df = read_data(\"cluster_types_set\")\n",
    "priority_df = read_data(\"priority\")"
   ]
  },
  {
   "cell_type": "code",
   "execution_count": 22,
   "id": "1cb7fbab-2619-4096-ae5f-f22298652b25",
   "metadata": {},
   "outputs": [],
   "source": [
    "property_df = read_data(\"property\")"
   ]
  },
  {
   "cell_type": "code",
   "execution_count": 23,
   "id": "6dcb405e-eeec-4a24-98b7-f4e7b9d80a78",
   "metadata": {},
   "outputs": [],
   "source": [
    "cluster_df = read_data(\"cluster\")"
   ]
  },
  {
   "cell_type": "code",
   "execution_count": 11,
   "id": "f5c50263-6e48-434c-9b8d-c8d8dfa904d5",
   "metadata": {},
   "outputs": [],
   "source": [
    "priority_start_ids_df = priority_df.select(\"cluster_types_set_id\").distinct()"
   ]
  },
  {
   "cell_type": "markdown",
   "id": "56700443-c023-40c8-a8a8-e43d01194029",
   "metadata": {},
   "source": [
    "## Recursive cte"
   ]
  },
  {
   "cell_type": "code",
   "execution_count": 14,
   "id": "7c383f76-382f-451e-9471-ed39920504e3",
   "metadata": {},
   "outputs": [],
   "source": [
    "anchor_df = cluster_set_df.join(\n",
    "    priority_start_ids_df,\n",
    "    cluster_set_df.id == priority_start_ids_df.cluster_types_set_id,\n",
    "    \"semi\"\n",
    ").withColumn(\"root\", F.col(\"id\")) # Add the 'root' column"
   ]
  },
  {
   "cell_type": "code",
   "execution_count": null,
   "id": "f93f17e2-588d-4f19-a662-dabf701aaa9b",
   "metadata": {},
   "outputs": [],
   "source": [
    "final_results_df = anchor_df\n",
    "iteration_df = anchor_df\n",
    "cluster_set_df.cache()"
   ]
  },
  {
   "cell_type": "code",
   "execution_count": 16,
   "id": "12e9b4e9-88e8-4da5-9e33-cced7a38e0fc",
   "metadata": {},
   "outputs": [
    {
     "name": "stderr",
     "output_type": "stream",
     "text": [
      "25/08/19 12:11:38 WARN BlockManager: Block rdd_5_0 already exists on this machine; not re-adding it\n",
      "[Stage 14:===============================================>      (176 + 4) / 200]"
     ]
    }
   ],
   "source": [
    "while True:\n",
    "    next_iteration_df = iteration_df.alias(\"c\").join(\n",
    "        cluster_set_df.alias(\"s\"),\n",
    "        F.col(\"c.cluster_types_set_id\") == F.col(\"s.id\")\n",
    "    ).select(\n",
    "        F.col(\"s.id\"),\n",
    "        F.col(\"s.cluster_type_id\"),\n",
    "        F.col(\"s.cluster_type_level\"),\n",
    "        F.col(\"s.cluster_types_set_id\"),\n",
    "        F.col(\"c.root\")\n",
    "    )\n",
    "    \n",
    "    new_rows_df = next_iteration_df.join(final_results_df, on=\"id\", how=\"left_anti\")\n",
    "    \n",
    "    new_rows_df = new_rows_df.cache()\n",
    "    \n",
    "    if new_rows_df.isEmpty():\n",
    "        break\n",
    "        \n",
    "    final_results_df = final_results_df.unionByName(new_rows_df)\n",
    "    \n",
    "    iteration_df = new_rows_df\n",
    "\n",
    "cluster_set_df.unpersist()\n",
    "\n",
    "output_df = final_results_df.select(\n",
    "    F.col(\"id\").alias(\"property_id\"),\n",
    "    F.col(\"cluster_type_level\").alias(\"order_number\")\n",
    ")"
   ]
  },
  {
   "cell_type": "markdown",
   "id": "a47fc5f9-277b-4272-a575-bdef39ed8440",
   "metadata": {},
   "source": [
    "## arr_cl_set"
   ]
  },
  {
   "cell_type": "code",
   "execution_count": 18,
   "id": "ba89ff95-7920-40fa-9036-0b54bea5495e",
   "metadata": {},
   "outputs": [],
   "source": [
    "grouped_df = final_results_df.groupBy(\"root\").agg(\n",
    "    F.collect_list(F.col(\"cluster_type_id\").cast(\"string\")).alias(\"id_array\"),\n",
    "    F.collect_list(F.col(\"cluster_type_level\").cast(\"string\")).alias(\"level_array\")\n",
    ")\n",
    "\n",
    "arr_cl_set_df = grouped_df.withColumn(\n",
    "    \"zipped_structs\", F.arrays_zip(F.col(\"id_array\"), F.col(\"level_array\"))\n",
    ").withColumn(\n",
    "    \"sorted_structs\", F.array_sort(F.col(\"zipped_structs\"))\n",
    ").withColumn(\n",
    "    \"ct_lvl\", F.expr(\"transform(sorted_structs, s -> array(s.id_array, s.level_array))\")\n",
    ").select(\"ct_lvl\", \"root\")"
   ]
  },
  {
   "cell_type": "markdown",
   "id": "45b8338e-61e4-4aaa-918c-f94b983933ff",
   "metadata": {},
   "source": [
    "## arr_prior"
   ]
  },
  {
   "cell_type": "code",
   "execution_count": 20,
   "id": "d575993f-f42a-4bad-9349-28c479257baa",
   "metadata": {},
   "outputs": [],
   "source": [
    "arr_prior_df = arr_cl_set_df.alias(\"ac\").join(\n",
    "    priority_df.alias(\"pr\"),\n",
    "    F.col(\"ac.root\") == F.col(\"pr.cluster_types_set_id\")\n",
    ").select(\n",
    "    F.col(\"ac.ct_lvl\"),\n",
    "    F.col(\"pr.metric_id\"),\n",
    "    F.col(\"pr.order_number\")\n",
    ")"
   ]
  },
  {
   "cell_type": "markdown",
   "id": "8f4cdbdf-0118-4130-bd5e-fd06e779c425",
   "metadata": {},
   "source": [
    "## arr_prop"
   ]
  },
  {
   "cell_type": "code",
   "execution_count": 28,
   "id": "9fb75bd1-6721-4508-9288-7ae9e588612f",
   "metadata": {},
   "outputs": [],
   "source": [
    "arr_prop_intermediate_df = property_df.alias(\"p\").join(\n",
    "    cluster_df.alias(\"c\"),\n",
    "    F.col(\"c.property_id\") == F.col(\"p.id\")\n",
    ").where(\n",
    "    F.col(\"p.is_exception\") == False\n",
    ").groupBy(\n",
    "    \"c.property_id\",\n",
    "    \"p.metric_id\"\n",
    ").agg(\n",
    "    F.collect_list(F.col(\"c.cluster_type_id\").cast(\"string\")).alias(\"id_array\"),\n",
    "    F.collect_list(F.col(\"c.level\").cast(\"string\")).alias(\"level_array\") # Note: uses 'level' column\n",
    ")\n",
    "\n",
    "arr_prop_df = arr_prop_intermediate_df.withColumn(\n",
    "    \"sorted_structs\", F.array_sort(F.arrays_zip(F.col(\"id_array\"), F.col(\"level_array\")))\n",
    ").withColumn(\n",
    "    \"ct_lvl\", F.expr(\"transform(sorted_structs, s -> array(s.id_array, s.level_array))\")\n",
    ").select(\n",
    "    \"property_id\",\n",
    "    \"metric_id\",\n",
    "    \"ct_lvl\"\n",
    ")"
   ]
  },
  {
   "cell_type": "code",
   "execution_count": 29,
   "id": "e457280d-5d67-4842-bc6f-80854b22b845",
   "metadata": {},
   "outputs": [],
   "source": [
    "final_join_df = arr_prior_df.alias(\"p\").join(\n",
    "    arr_prop_df.alias(\"pr\"),\n",
    "    (F.col(\"p.ct_lvl\") == F.col(\"pr.ct_lvl\")) & (F.col(\"p.metric_id\") == F.col(\"pr.metric_id\"))\n",
    ").select(\n",
    "    F.col(\"pr.property_id\"),\n",
    "    F.col(\"p.order_number\")\n",
    ")"
   ]
  },
  {
   "cell_type": "code",
   "execution_count": 32,
   "id": "325f0b09-2e32-45d4-b5fe-8e798dc56e4b",
   "metadata": {},
   "outputs": [
    {
     "name": "stdout",
     "output_type": "stream",
     "text": [
      "+-----------+------------+\n",
      "|property_id|order_number|\n",
      "+-----------+------------+\n",
      "|       4129|         190|\n",
      "|       4129|         277|\n",
      "|       4129|         133|\n",
      "|       4129|          94|\n",
      "|       4129|         238|\n",
      "|       4129|          46|\n",
      "|       4129|          91|\n",
      "|       4129|         234|\n",
      "|       4129|         286|\n",
      "|       4129|         142|\n",
      "|       4129|          44|\n",
      "|       4129|         285|\n",
      "|       4130|         190|\n",
      "|       4130|         277|\n",
      "|       4130|         133|\n",
      "|       4130|          94|\n",
      "|       4130|         238|\n",
      "|       4130|          46|\n",
      "|       4130|          91|\n",
      "|       4130|         234|\n",
      "+-----------+------------+\n",
      "only showing top 20 rows\n"
     ]
    }
   ],
   "source": [
    "final_join_df.show()"
   ]
  },
  {
   "cell_type": "markdown",
   "id": "b248c300-7ca6-4608-b239-d8af8162d5c2",
   "metadata": {},
   "source": [
    "## Inserting data in params.promo_item_location_period_norm"
   ]
  },
  {
   "cell_type": "code",
   "execution_count": 39,
   "id": "b663d3de-12c1-42e4-852b-df6d63a4f989",
   "metadata": {},
   "outputs": [
    {
     "name": "stderr",
     "output_type": "stream",
     "text": [
      "25/08/20 17:05:48 WARN SparkStringUtils: Truncated the string representation of a plan since it was too large. This behavior can be adjusted by setting 'spark.sql.debug.maxToStringFields'.\n",
      "                                                                                "
     ]
    }
   ],
   "source": [
    "promo_item_location_period_df = read_data(\"promo_item_location_period\")\n",
    "item_df = read_data(\"item\")\n",
    "item_expiration_period_df = read_data(\"item_expiration_period\")\n",
    "item_promo_df = read_data(\"item_promo\")\n",
    "promo_category_hierarchy_df = read_data(\"promo_category_hierarchy\")\n",
    "promo_period_df = read_data(\"promo_period\")\n",
    "store_df = read_data(\"store\")\n",
    "delivery_group_df = read_data(\"delivery_group\")\n",
    "delivery_group_assortment_df = read_data(\"delivery_group_assortment\")\n",
    "\n",
    "common_base_df = promo_item_location_period_df.alias(\"sc\").join(\n",
    "    item_df.alias(\"i\"), F.col(\"i.item_uid\") == F.col(\"sc.item_id\")\n",
    ").join(\n",
    "    item_expiration_period_df.alias(\"ie\"),\n",
    "    F.col(\"i.total_shelf_life_day_qnty\").between(F.col(\"ie.value_min\"), F.col(\"ie.value_max\"))\n",
    ").join(\n",
    "    item_promo_df.alias(\"ip\"), F.col(\"ip.item_promo_uid\") == F.col(\"sc.promo_id\")\n",
    ").join(\n",
    "    promo_category_hierarchy_df.alias(\"ph\"), F.col(\"ph.promo_category_uid\") == F.col(\"ip.promo_category_uid\")\n",
    ").join(\n",
    "    promo_period_df.alias(\"pd\"),\n",
    "    (F.datediff(F.col(\"ip.promo_end_dt\"), F.col(\"ip.promo_begin_dt\")) + 1).between(F.col(\"pd.value_min\"), F.col(\"pd.value_max\"))\n",
    ")\n",
    "\n",
    "common_base_df.cache()\n",
    "\n",
    "store_branch_df = common_base_df.join(\n",
    "    store_df.alias(\"s\"), F.col(\"s.store_uid\") == F.col(\"sc.location_id\")\n",
    ").select(\n",
    "    F.col(\"sc.*\"),\n",
    "    F.col(\"i.item_category_level_0_uid\"),\n",
    "    F.col(\"i.item_category_level_1_uid\"),\n",
    "    F.col(\"i.item_category_level_2_uid\"),\n",
    "    F.col(\"i.item_category_level_3_uid\"),\n",
    "    F.col(\"i.item_category_level_4_uid\"),\n",
    "    F.col(\"ie.item_expiration_period_uid\"),\n",
    "    F.col(\"pd.promo_period_uid\"),\n",
    "    F.col(\"ph.promo_category_level_0_uid\"),\n",
    "    F.col(\"ph.promo_category_level_1_uid\"),\n",
    "    F.col(\"ph.promo_category_level_2_uid\"),\n",
    "    F.col(\"s.store_format_level_0_uid\"),\n",
    "    F.col(\"s.store_format_level_1_uid\"),\n",
    "    F.lit(None).cast(\"string\").alias(\"delivery_group_uid\") # Add null placeholder\n",
    ")\n",
    "\n",
    "delivery_branch_df = common_base_df.filter(\n",
    "    F.col(\"sc.location_id\") == -5042515683615240694\n",
    ").join(\n",
    "    delivery_group_df.alias(\"dg\"), F.col(\"dg.destination_location_uid\") == F.col(\"sc.location_id\")\n",
    ").join(\n",
    "    delivery_group_assortment_df.alias(\"dga\"),\n",
    "    (F.col(\"dga.delivery_group_uid\") == F.col(\"dg.delivery_group_uid\")) &\n",
    "    (F.col(\"dga.item_uid\") == F.col(\"sc.item_id\"))\n",
    ").select(\n",
    "    F.col(\"sc.*\"),\n",
    "    F.col(\"i.item_category_level_0_uid\"),\n",
    "    F.col(\"i.item_category_level_1_uid\"),\n",
    "    F.col(\"i.item_category_level_2_uid\"),\n",
    "    F.col(\"i.item_category_level_3_uid\"),\n",
    "    F.col(\"i.item_category_level_4_uid\"),\n",
    "    F.col(\"ie.item_expiration_period_uid\"),\n",
    "    F.col(\"pd.promo_period_uid\"),\n",
    "    F.col(\"ph.promo_category_level_0_uid\"),\n",
    "    F.col(\"ph.promo_category_level_1_uid\"),\n",
    "    F.col(\"ph.promo_category_level_2_uid\"),\n",
    "    F.lit(None).cast(\"string\").alias(\"store_format_level_0_uid\"),\n",
    "    F.lit(None).cast(\"string\").alias(\"store_format_level_1_uid\"),\n",
    "    F.col(\"dga.delivery_group_uid\")\n",
    ")\n",
    "\n",
    "promo_item_location_period = store_branch_df.unionByName(delivery_branch_df)\n",
    "\n",
    "common_base_df.unpersist()\n",
    "\n",
    "write_data(table_name=\"promo_item_location_period_norm_spark\", dataframe=promo_item_location_period)"
   ]
  },
  {
   "cell_type": "markdown",
   "id": "43dd93cc-3bab-411e-8575-a748c18aa693",
   "metadata": {},
   "source": [
    "## Insert into item_location_period_norm"
   ]
  },
  {
   "cell_type": "code",
   "execution_count": 40,
   "id": "0f13425e-9516-4a17-93f2-d7dac21bda83",
   "metadata": {},
   "outputs": [
    {
     "name": "stderr",
     "output_type": "stream",
     "text": [
      "                                                                                "
     ]
    }
   ],
   "source": [
    "item_location_period_df = read_data(\"item_location_period\")\n",
    "item_df = read_data(\"item\")\n",
    "item_expiration_period_df = read_data(\"item_expiration_period\")\n",
    "store_df = read_data(\"store\")\n",
    "delivery_group_df = read_data(\"delivery_group\")\n",
    "delivery_group_assortment_df = read_data(\"delivery_group_assortment\")\n",
    "\n",
    "common_base_df = item_location_period_df.alias(\"sc\").join(\n",
    "    item_df.alias(\"i\"), F.col(\"i.item_uid\") == F.col(\"sc.item_id\")\n",
    ").join(\n",
    "    item_expiration_period_df.alias(\"ie\"),\n",
    "    F.col(\"i.total_shelf_life_day_qnty\").between(F.col(\"ie.value_min\"), F.col(\"ie.value_max\"))\n",
    ")\n",
    "\n",
    "common_base_df.cache()\n",
    "\n",
    "store_branch_df = common_base_df.join(\n",
    "    store_df.alias(\"s\"), F.col(\"s.store_uid\") == F.col(\"sc.location_id\")\n",
    ").select(\n",
    "    \"sc.item_id\",\n",
    "    \"sc.location_id\",\n",
    "    \"sc.begin_dt\",\n",
    "    \"sc.end_dt\",\n",
    "    \"i.item_category_level_0_uid\",\n",
    "    \"i.item_category_level_1_uid\",\n",
    "    \"i.item_category_level_2_uid\",\n",
    "    \"i.item_category_level_3_uid\",\n",
    "    \"i.item_category_level_4_uid\",\n",
    "    \"ie.item_expiration_period_uid\",\n",
    "    \"s.store_format_level_0_uid\",\n",
    "    \"s.store_format_level_1_uid\",\n",
    "    F.lit(None).cast(\"string\").alias(\"delivery_group_uid\")\n",
    ")\n",
    "\n",
    "delivery_branch_df = common_base_df.filter(\n",
    "    F.col(\"sc.location_id\") == -5042515683615240694\n",
    ").join(\n",
    "    delivery_group_df.alias(\"dg\"), F.col(\"dg.destination_location_uid\") == F.col(\"sc.location_id\")\n",
    ").join(\n",
    "    delivery_group_assortment_df.alias(\"dga\"),\n",
    "    (F.col(\"dga.delivery_group_uid\") == F.col(\"dg.delivery_group_uid\")) & \n",
    "    (F.col(\"dga.item_uid\") == F.col(\"sc.item_id\"))\n",
    ").select(\n",
    "    \"sc.item_id\",\n",
    "    \"sc.location_id\",\n",
    "    \"sc.begin_dt\",\n",
    "    \"sc.end_dt\",\n",
    "    \"i.item_category_level_0_uid\",\n",
    "    \"i.item_category_level_1_uid\",\n",
    "    \"i.item_category_level_2_uid\",\n",
    "    \"i.item_category_level_3_uid\",\n",
    "    \"i.item_category_level_4_uid\",\n",
    "    \"ie.item_expiration_period_uid\",\n",
    "    F.lit(None).cast(\"string\").alias(\"store_format_level_0_uid\"),\n",
    "    F.lit(None).cast(\"string\").alias(\"store_format_level_1_uid\"),\n",
    "    \"dga.delivery_group_uid\"\n",
    ")\n",
    "\n",
    "item_location_period = store_branch_df.unionByName(delivery_branch_df)\n",
    "\n",
    "common_base_df.unpersist()\n",
    "\n",
    "write_data(table_name=\"item_location_period_norm_spark\", dataframe=item_location_period)\n"
   ]
  },
  {
   "cell_type": "markdown",
   "id": "6e4ff6b5-0ac5-4548-8109-a5f4abc44894",
   "metadata": {},
   "source": [
    "## supplier_item_location_period"
   ]
  },
  {
   "cell_type": "code",
   "execution_count": 41,
   "id": "0c4076b5-ebfd-4e7b-8271-1ea037a89a34",
   "metadata": {},
   "outputs": [
    {
     "name": "stdout",
     "output_type": "stream",
     "text": [
      "Store logic branch created.\n"
     ]
    },
    {
     "name": "stderr",
     "output_type": "stream",
     "text": [
      "                                                                                "
     ]
    }
   ],
   "source": [
    "supplier_item_location_period_df = read_data(\"supplier_item_location_period\")\n",
    "item_df = read_data(\"item\")\n",
    "item_expiration_period_df = read_data(\"item_expiration_period\")\n",
    "store_df = read_data(\"store\")\n",
    "delivery_group_df = read_data(\"delivery_group\")\n",
    "delivery_group_assortment_df = read_data(\"delivery_group_assortment\")\n",
    "\n",
    "common_base_df = supplier_item_location_period_df.alias(\"sc\").join(\n",
    "    item_df.alias(\"i\"), F.col(\"i.item_uid\") == F.col(\"sc.item_id\")\n",
    ").join(\n",
    "    item_expiration_period_df.alias(\"ie\"),\n",
    "    F.col(\"i.total_shelf_life_day_qnty\").between(F.col(\"ie.value_min\"), F.col(\"ie.value_max\"))\n",
    ")\n",
    "\n",
    "common_base_df.cache()\n",
    "\n",
    "store_branch_df = common_base_df.join(\n",
    "    store_df.alias(\"s\"), F.col(\"s.store_uid\") == F.col(\"sc.location_id\")\n",
    ").select(\n",
    "    \"sc.item_id\",\n",
    "    \"sc.location_id\",\n",
    "    \"sc.supplier_id\",\n",
    "    \"sc.begin_dt\",\n",
    "    \"sc.end_dt\",\n",
    "    \"i.item_category_level_0_uid\",\n",
    "    \"i.item_category_level_1_uid\",\n",
    "    \"i.item_category_level_2_uid\",\n",
    "    \"i.item_category_level_3_uid\",\n",
    "    \"i.item_category_level_4_uid\",\n",
    "    \"ie.item_expiration_period_uid\",\n",
    "    \"s.store_format_level_0_uid\",\n",
    "    \"s.store_format_level_1_uid\",\n",
    "    F.lit(None).cast(\"string\").alias(\"delivery_group_uid\")\n",
    ")\n",
    "print(\"Store logic branch created.\")\n",
    "\n",
    "delivery_branch_df = common_base_df.filter(\n",
    "    F.col(\"sc.location_id\") == -5042515683615240694\n",
    ").join(\n",
    "    delivery_group_df.alias(\"dg\"),\n",
    "    (F.col(\"dg.destination_location_uid\") == F.col(\"sc.location_id\")) &\n",
    "    (F.col(\"dg.source_location_uid\") == F.col(\"sc.supplier_id\"))\n",
    ").join(\n",
    "    delivery_group_assortment_df.alias(\"dga\"),\n",
    "    (F.col(\"dga.delivery_group_uid\") == F.col(\"dg.delivery_group_uid\")) &\n",
    "    (F.col(\"dga.item_uid\") == F.col(\"sc.item_id\"))\n",
    ").select(\n",
    "    \"sc.item_id\",\n",
    "    \"sc.location_id\",\n",
    "    \"sc.supplier_id\",\n",
    "    \"sc.begin_dt\",\n",
    "    \"sc.end_dt\",\n",
    "    \"i.item_category_level_0_uid\",\n",
    "    \"i.item_category_level_1_uid\",\n",
    "    \"i.item_category_level_2_uid\",\n",
    "    \"i.item_category_level_3_uid\",\n",
    "    \"i.item_category_level_4_uid\",\n",
    "    \"ie.item_expiration_period_uid\",\n",
    "    F.lit(None).cast(\"string\").alias(\"store_format_level_0_uid\"),\n",
    "    F.lit(None).cast(\"string\").alias(\"store_format_level_1_uid\"),\n",
    "    \"dga.delivery_group_uid\"\n",
    ")\n",
    "\n",
    "supplier_item_location_period = store_branch_df.unionByName(delivery_branch_df)\n",
    "\n",
    "common_base_df.unpersist()\n",
    "\n",
    "write_data(dataframe=supplier_item_location_period, table_name=\"supplier_item_location_period_norm_spark\")\n"
   ]
  },
  {
   "cell_type": "markdown",
   "id": "478a9d38-3149-40f8-820c-3dc09989df14",
   "metadata": {},
   "source": [
    "## supplier_location_period_norm"
   ]
  },
  {
   "cell_type": "code",
   "execution_count": 45,
   "id": "ae7a9869-4c3b-406f-b673-7a5a38657c9b",
   "metadata": {},
   "outputs": [],
   "source": [
    "supplier_location_period_df = read_data(\"supplier_location_period\")\n",
    "store_df = read_data(\"store\")\n",
    "delivery_group_df = read_data(\"delivery_group\")\n",
    "\n",
    "store_branch_df = supplier_location_period_df.alias(\"sc\").join(\n",
    "    store_df.alias(\"s\"), F.col(\"s.store_uid\") == F.col(\"sc.location_id\")\n",
    ").select(\n",
    "    \"sc.location_id\",\n",
    "    \"sc.supplier_id\",\n",
    "    \"sc.begin_dt\",\n",
    "    \"sc.end_dt\",\n",
    "    \"s.store_format_level_0_uid\",\n",
    "    \"s.store_format_level_1_uid\",\n",
    "    F.lit(None).cast(\"string\").alias(\"delivery_group_uid\")\n",
    ")\n",
    "\n",
    "delivery_branch_df = supplier_location_period_df.alias(\"sc\").filter(\n",
    "    F.col(\"sc.location_id\") == -5042515683615240694\n",
    ").join(\n",
    "    delivery_group_df.alias(\"dg\"),\n",
    "    (F.col(\"dg.destination_location_uid\") == F.col(\"sc.location_id\")) &\n",
    "    (F.col(\"dg.source_location_uid\") == F.col(\"sc.supplier_id\"))\n",
    ").select(\n",
    "    \"sc.location_id\",\n",
    "    \"sc.supplier_id\",\n",
    "    \"sc.begin_dt\",\n",
    "    \"sc.end_dt\",\n",
    "    F.lit(None).cast(\"string\").alias(\"store_format_level_0_uid\"),\n",
    "    F.lit(None).cast(\"string\").alias(\"store_format_level_1_uid\"),\n",
    "    \"dg.delivery_group_uid\"\n",
    ")\n",
    "\n",
    "supplier_location_period_norm = store_branch_df.unionByName(delivery_branch_df)\n",
    "\n",
    "write_data(dataframe=supplier_location_period_norm, table_name=\"supplier_location_period_norm_spark\")\n"
   ]
  },
  {
   "cell_type": "code",
   "execution_count": null,
   "id": "352a1cb4-7985-466a-852b-59d65f57a700",
   "metadata": {},
   "outputs": [],
   "source": []
  }
 ],
 "metadata": {
  "kernelspec": {
   "display_name": "Python 3 (ipykernel)",
   "language": "python",
   "name": "python3"
  },
  "language_info": {
   "codemirror_mode": {
    "name": "ipython",
    "version": 3
   },
   "file_extension": ".py",
   "mimetype": "text/x-python",
   "name": "python",
   "nbconvert_exporter": "python",
   "pygments_lexer": "ipython3",
   "version": "3.12.10"
  }
 },
 "nbformat": 4,
 "nbformat_minor": 5
}
